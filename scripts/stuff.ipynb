{
 "cells": [
  {
   "cell_type": "code",
   "execution_count": 1,
   "metadata": {},
   "outputs": [],
   "source": [
    "from odrpack.__odrpack import odr as _odr\n",
    "#from odrpack import odr\n",
    "import numpy as np\n"
   ]
  },
  {
   "cell_type": "code",
   "execution_count": 2,
   "metadata": {},
   "outputs": [],
   "source": [
    "def f(beta: np.ndarray, x: np.ndarray) -> np.ndarray:\n",
    "    return beta[0] * np.exp(beta[1]*x)"
   ]
  },
  {
   "cell_type": "code",
   "execution_count": 3,
   "metadata": {},
   "outputs": [],
   "source": [
    "def fjacb(beta: np.ndarray, x: np.ndarray) -> np.ndarray:\n",
    "    jac = np.zeros((beta.size, x.size))\n",
    "    jac[0, :] = np.exp(beta[1]*x)\n",
    "    jac[1, :] = beta[0]*x*np.exp(beta[1]*x)\n",
    "    return jac"
   ]
  },
  {
   "cell_type": "code",
   "execution_count": 4,
   "metadata": {},
   "outputs": [],
   "source": [
    "def fjacd(beta: np.ndarray, x: np.ndarray) -> np.ndarray:\n",
    "    return beta[0] * beta[1] * np.exp(beta[1]*x)"
   ]
  },
  {
   "cell_type": "code",
   "execution_count": 5,
   "metadata": {},
   "outputs": [],
   "source": [
    "npar = 2\n",
    "n = 4\n",
    "m = 1\n",
    "nq = 1\n",
    "beta0 = np.array([2., 0.5], dtype=np.float64)\n",
    "lower = np.array([0., 0.], dtype=np.float64)\n",
    "upper = np.array([10., 0.9])\n",
    "x = np.array([0.982, 1.998, 4.978, 6.01], dtype=np.float64)\n",
    "y = np.array([2.7, 7.4, 148.0, 403.0], dtype=np.float64)\n",
    "delta = np.zeros_like(x)\n",
    "\n",
    "ldwe = 1\n",
    "ld2we = 1\n",
    "ldwd = 1\n",
    "ld2wd = 1\n",
    "ldifix = 1\n",
    "ldifx=1\n",
    "ldstpd=1\n",
    "ldscld=1"
   ]
  },
  {
   "cell_type": "code",
   "execution_count": 6,
   "metadata": {},
   "outputs": [
    {
     "data": {
      "text/plain": [
       "-1"
      ]
     },
     "execution_count": 6,
     "metadata": {},
     "output_type": "execute_result"
    }
   ],
   "source": [
    "_odr(n, m, npar, nq, ldwe, ld2we, ldwd, ld2wd, ldifx, ldstpd, ldscld, f, fjacb, fjacd, beta0, y, x, delta, we=None)"
   ]
  },
  {
   "cell_type": "code",
   "execution_count": 8,
   "metadata": {},
   "outputs": [
    {
     "name": "stdout",
     "output_type": "stream",
     "text": [
      "Help on nb_func in module odrpack.__odrpack:\n",
      "\n",
      "odr = <nanobind.nb_func object>\n",
      "    odr(n: int, m: int, npar: int, nq: int, ldwe: int, ld2we: int, ldwd: int, ld2wd: int, ldifx: int, ldstpd: int, ldscld: int, f: collections.abc.Callable, fjacb: collections.abc.Callable, fjacd: collections.abc.Callable, beta: ndarray[dtype=float64, order='C'], y: ndarray[dtype=float64, order='C'], x: ndarray[dtype=float64, order='C'], delta: ndarray[dtype=float64, order='C'], we: ndarray[dtype=float64, order='C'] | None = None) -> int\n",
      "    \n",
      "    C++ wrapper for the Orthogonal Distance Regression (ODR) routine.\n",
      "    \n",
      "    Parameters\n",
      "    ----------\n",
      "    n : int\n",
      "        Number of observations.\n",
      "    m : int\n",
      "        Number of columns in the independent variable data.\n",
      "    npar : int\n",
      "        Number of function parameters.\n",
      "    nq : int\n",
      "        Number of responses per observation.\n",
      "    ldwe : int\n",
      "        Leading dimension of the `we` array, must be in `{1, n}`.\n",
      "    ld2we : int\n",
      "        Second dimension of the `we` array, must be in `{1, nq}`.\n",
      "    ldwd : int\n",
      "        Leading dimension of the `wd` array, must be in `{1, n}`.\n",
      "    ld2wd : int\n",
      "        Second dimension of the `wd` array, must be in `{1, m}`.\n",
      "    ldifx : int\n",
      "        Leading dimension of the `ifixx` array, must be in `{1, n}`.\n",
      "    ldstpd : int\n",
      "        Leading dimension of the `stpd` array, must be in `{1, n}`.\n",
      "    ldscld : int\n",
      "        Leading dimension of the `scld` array, must be in `{1, n}`.\n",
      "    f : Callable\n",
      "        User-supplied function for evaluating the model, `f(beta, x)`.\n",
      "    fjacb : Callable\n",
      "        User-supplied function for evaluating the Jacobian w.r.t. `beta`,\n",
      "        `fjacb(beta, x)`.\n",
      "    fjacd : Callable\n",
      "        User-supplied function for evaluating the Jacobian w.r.t. `delta`,\n",
      "        `fjacd(beta, x)`.\n",
      "    beta : np.ndarray[float64]\n",
      "        Array of function parameters with shape `(npar)`.\n",
      "    y : np.ndarray[float64]\n",
      "        Dependent variables with shape `(nq, n)`. Ignored for implicit models.\n",
      "    x : np.ndarray[float64]\n",
      "        Explanatory variables with shape `(m, n)`.\n",
      "    delta : np.ndarray[float64]\n",
      "        Initial errors in `x` data with shape `(m, n)`.\n",
      "    we : np.ndarray[float64], optional\n",
      "        Weights for `epsilon` with shape `(nq, ld2we, ldwe)`. Default is None.\n",
      "    wd : np.ndarray[float64], optional\n",
      "        Weights for `delta` with shape `(m, ld2wd, ldwd)`. Default is None.\n",
      "    ifixb : np.ndarray[int32], optional\n",
      "        Indicates fixed elements of `beta`. Default is None.\n",
      "    ifixx : np.ndarray[int32], optional\n",
      "        Indicates fixed elements of `x`. Default is None.\n",
      "    stpb : np.ndarray[float64], optional\n",
      "        Relative steps for finite difference derivatives w.r.t. `beta`. Default is None.\n",
      "    stpd : np.ndarray[float64], optional\n",
      "        Relative steps for finite difference derivatives w.r.t. `delta`. Default is None.\n",
      "    sclb : np.ndarray[float64], optional\n",
      "        Scaling values for `beta`. Default is None.\n",
      "    scld : np.ndarray[float64], optional\n",
      "        Scaling values for `delta`. Default is None.\n",
      "    lower : np.ndarray[float64], optional\n",
      "        Lower bounds for `beta`. Default is None.\n",
      "    upper : np.ndarray[float64], optional\n",
      "        Upper bounds for `beta`. Default is None.\n",
      "    work : np.ndarray[float64], optional\n",
      "        Real work space. Default is None.\n",
      "    iwork : np.ndarray[int32], optional\n",
      "        Integer work space. Default is None.\n",
      "    job : int, optional\n",
      "        Controls initialization and computational method. Default is None.\n",
      "    ndigit : int, optional\n",
      "        Number of accurate digits in function results. Default is None.\n",
      "    taufac : float, optional\n",
      "        Factor for initial trust region diameter. Default is None.\n",
      "    sstol : float, optional\n",
      "        Sum-of-squares convergence tolerance. Default is None.\n",
      "    partol : float, optional\n",
      "        Parameter convergence tolerance. Default is None.\n",
      "    maxit : int, optional\n",
      "        Maximum number of iterations. Default is None.\n",
      "    iprint : int, optional\n",
      "        Print control variable. Default is None.\n",
      "    errfile : str, optional\n",
      "        Filename to use for error messages. Default is None.\n",
      "    rptfile : str, optional\n",
      "        Filename to use for computation reports. Default is None.\n",
      "    \n",
      "    Returns\n",
      "    -------\n",
      "    info : int\n",
      "        Reason for stopping.\n",
      "    \n",
      "    Notes\n",
      "    -----\n",
      "    - Ensure all array dimensions and functions are consistent with the provided arguments.\n",
      "    - Input arrays will automatically be made contiguous and cast to the correct type if necessary.\n",
      "\n"
     ]
    }
   ],
   "source": [
    "help(_odr)"
   ]
  },
  {
   "cell_type": "code",
   "execution_count": null,
   "metadata": {},
   "outputs": [],
   "source": []
  }
 ],
 "metadata": {
  "kernelspec": {
   "display_name": ".venv",
   "language": "python",
   "name": "python3"
  },
  "language_info": {
   "codemirror_mode": {
    "name": "ipython",
    "version": 3
   },
   "file_extension": ".py",
   "mimetype": "text/x-python",
   "name": "python",
   "nbconvert_exporter": "python",
   "pygments_lexer": "ipython3",
   "version": "3.10.12"
  }
 },
 "nbformat": 4,
 "nbformat_minor": 2
}
